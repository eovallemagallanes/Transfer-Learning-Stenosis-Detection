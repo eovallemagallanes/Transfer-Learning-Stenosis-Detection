{
  "nbformat": 4,
  "nbformat_minor": 0,
  "metadata": {
    "colab": {
      "name": "NC-TL.ipynb",
      "provenance": [],
      "collapsed_sections": []
    },
    "kernelspec": {
      "name": "python3",
      "display_name": "Python 3"
    },
    "language_info": {
      "name": "python"
    },
    "accelerator": "GPU"
  },
  "cells": [
    {
      "cell_type": "code",
      "metadata": {
        "id": "4EJVZMA09I9t"
      },
      "source": [
        "!pip install torchsummary --quiet\n",
        "!pip install livelossplot --quiet"
      ],
      "execution_count": 1,
      "outputs": []
    },
    {
      "cell_type": "code",
      "metadata": {
        "colab": {
          "base_uri": "https://localhost:8080/"
        },
        "id": "q7hu_Y9EfXPZ",
        "outputId": "018978fd-9610-43f2-fe3c-f66e06cad8a7"
      },
      "source": [
        "%cd 'drive/MyDrive/NETWORK-CUT-TRANSFER-LEARNING'\n",
        "%ls"
      ],
      "execution_count": 1,
      "outputs": [
        {
          "output_type": "stream",
          "text": [
            "/content/drive/MyDrive/NETWORK-CUT-TRANSFER-LEARNING\n",
            "main_test.py  NC-TL.ipynb  params.txt    test.py\n",
            "\u001b[0m\u001b[01;34mmodels\u001b[0m/       \u001b[01;34moutputs\u001b[0m/     \u001b[01;34m__pycache__\u001b[0m/  train.py\n"
          ],
          "name": "stdout"
        }
      ]
    },
    {
      "cell_type": "code",
      "metadata": {
        "colab": {
          "base_uri": "https://localhost:8080/"
        },
        "id": "sFHP4BOjSUy6",
        "outputId": "eaf8d389-6d93-4886-8419-5c88c7a941bb"
      },
      "source": [
        "%run main_test.py params.txt"
      ],
      "execution_count": 9,
      "outputs": [
        {
          "output_type": "stream",
          "text": [
            "Number of arguments: 2 arguments.\n",
            "Argument List: ['main_test.py', 'params.txt']\n",
            "**************************************************\n",
            "Model: resnet18\n",
            "num res_blocks: 3\n",
            "num train_layers: -1\n",
            "All layers set to trainable\n",
            "**************************************************\n",
            "Testing started:\n",
            "tn=61, fp=2, fn=5, tp=54\n",
            "Accuracy: 0.942623\n",
            "Precision: 0.964286\n",
            "Recall: 0.915254\n",
            "F1 score: 0.939130\n",
            "Specificity: 0.968254 \n"
          ],
          "name": "stdout"
        }
      ]
    },
    {
      "cell_type": "code",
      "metadata": {
        "id": "SEBoz-5C8tcA"
      },
      "source": [
        "#summary(model_ft, (3, 32, 32))"
      ],
      "execution_count": null,
      "outputs": []
    }
  ]
}